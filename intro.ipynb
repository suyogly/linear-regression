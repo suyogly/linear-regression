{
 "cells": [
  {
   "cell_type": "markdown",
   "id": "e845a265",
   "metadata": {
    "papermill": {
     "duration": 0.002127,
     "end_time": "2025-07-17T15:14:25.495963",
     "exception": false,
     "start_time": "2025-07-17T15:14:25.493836",
     "status": "completed"
    },
    "tags": []
   },
   "source": [
    "# **Linear Regression**"
   ]
  },
  {
   "cell_type": "markdown",
   "id": "10972e4b",
   "metadata": {
    "papermill": {
     "duration": 0.001258,
     "end_time": "2025-07-17T15:14:25.499063",
     "exception": false,
     "start_time": "2025-07-17T15:14:25.497805",
     "status": "completed"
    },
    "tags": []
   },
   "source": [
    "Before diving into Linear Regression, we need to know what exactly \"regression\" is.\n",
    "\n",
    "Regression is basically the way you find the new value from existing values. What does it mean to find the new value from existing values though? \n",
    "\n",
    "Suppose we have a data containing the relationship between the height and the weight.\n",
    "For instance, 5.5 feet - 60 kg, 5.4 feet - 50kg and so on.\n",
    "\n",
    "We will have a lot of these height-weight data. And from that data, we derive a certain pattern. Like, for each feet the weight is X. And then from this pattern, we predict or find the new weight for new height.\n",
    "\n",
    "We will apply this down the line."
   ]
  },
  {
   "cell_type": "markdown",
   "id": "f0ab840d",
   "metadata": {
    "papermill": {
     "duration": 0.001192,
     "end_time": "2025-07-17T15:14:25.501887",
     "exception": false,
     "start_time": "2025-07-17T15:14:25.500695",
     "status": "completed"
    },
    "tags": []
   },
   "source": [
    "### **Now what is \"linear\" in Linear Regression?**"
   ]
  },
  {
   "cell_type": "markdown",
   "id": "6ce0a7e4",
   "metadata": {
    "papermill": {
     "duration": 0.001178,
     "end_time": "2025-07-17T15:14:25.504473",
     "exception": false,
     "start_time": "2025-07-17T15:14:25.503295",
     "status": "completed"
    },
    "tags": []
   },
   "source": [
    "There are several regression methods, but Linear regression in particular is the way you predict the values from the data which is in **linear** format.\n",
    "\n",
    "But what does it mean that the data is in linear format?\n",
    "\n",
    "If the dependent variable increases or decreases with the increse or decrease of your independent variable in uniform way, it's called a linear format.\n",
    "\n",
    "Example:\n",
    "- if you age older, your weight will increase with your age, right? (assuming from birth to adulthood)\n",
    "- With the increase of rounds per minute (rpm) of your wheel, the faster you move, and the faster you get to your destination (assuming no gear changes and no brakes applied)\n",
    "- the less your spending capacity, the less you buy what you want."
   ]
  },
  {
   "cell_type": "code",
   "execution_count": null,
   "id": "8dd9be07",
   "metadata": {
    "papermill": {
     "duration": 0.001176,
     "end_time": "2025-07-17T15:14:25.507006",
     "exception": false,
     "start_time": "2025-07-17T15:14:25.505830",
     "status": "completed"
    },
    "tags": []
   },
   "outputs": [],
   "source": []
  }
 ],
 "metadata": {
  "kaggle": {
   "accelerator": "none",
   "dataSources": [
    {
     "datasetId": 7831439,
     "sourceId": 12417261,
     "sourceType": "datasetVersion"
    }
   ],
   "dockerImageVersionId": 31089,
   "isGpuEnabled": false,
   "isInternetEnabled": false,
   "language": "python",
   "sourceType": "notebook"
  },
  "kernelspec": {
   "display_name": "Python 3",
   "language": "python",
   "name": "python3"
  },
  "language_info": {
   "codemirror_mode": {
    "name": "ipython",
    "version": 3
   },
   "file_extension": ".py",
   "mimetype": "text/x-python",
   "name": "python",
   "nbconvert_exporter": "python",
   "pygments_lexer": "ipython3",
   "version": "3.11.13"
  },
  "papermill": {
   "default_parameters": {},
   "duration": 4.993797,
   "end_time": "2025-07-17T15:14:25.927337",
   "environment_variables": {},
   "exception": null,
   "input_path": "__notebook__.ipynb",
   "output_path": "__notebook__.ipynb",
   "parameters": {},
   "start_time": "2025-07-17T15:14:20.933540",
   "version": "2.6.0"
  }
 },
 "nbformat": 4,
 "nbformat_minor": 5
}
