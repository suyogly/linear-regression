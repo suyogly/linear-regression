{
 "cells": [
  {
   "cell_type": "markdown",
   "id": "aeb9f3c2",
   "metadata": {
    "papermill": {
     "duration": 0.005634,
     "end_time": "2025-07-18T13:52:45.922064",
     "exception": false,
     "start_time": "2025-07-18T13:52:45.916430",
     "status": "completed"
    },
    "tags": []
   },
   "source": [
    "# **Linear Regression**"
   ]
  },
  {
   "cell_type": "markdown",
   "id": "254c0ada",
   "metadata": {
    "papermill": {
     "duration": 0.003776,
     "end_time": "2025-07-18T13:52:45.930193",
     "exception": false,
     "start_time": "2025-07-18T13:52:45.926417",
     "status": "completed"
    },
    "tags": []
   },
   "source": [
    "Before diving into Linear Regression, we need to know what exactly \"regression\" is.\n",
    "\n",
    "Regression is basically the way you find the new value from existing values. What does it mean to find the new value from existing values though? \n",
    "\n",
    "Suppose we have a data containing the relationship between the height and the weight.\n",
    "For instance, 5.5 feet - 60 kg, 5.4 feet - 50kg and so on.\n",
    "\n",
    "We will have a lot of these height-weight data. And from that data, we derive a certain pattern. Like, for each feet the weight is X. And then from this pattern, we predict or find the new weight for new height.\n",
    "\n",
    "We will apply this down the line."
   ]
  },
  {
   "cell_type": "markdown",
   "id": "9e1537bf",
   "metadata": {
    "papermill": {
     "duration": 0.003725,
     "end_time": "2025-07-18T13:52:45.937910",
     "exception": false,
     "start_time": "2025-07-18T13:52:45.934185",
     "status": "completed"
    },
    "tags": []
   },
   "source": [
    "### **Now what is \"linear\" in Linear Regression?**"
   ]
  },
  {
   "cell_type": "markdown",
   "id": "db5e96da",
   "metadata": {
    "papermill": {
     "duration": 0.003691,
     "end_time": "2025-07-18T13:52:45.945653",
     "exception": false,
     "start_time": "2025-07-18T13:52:45.941962",
     "status": "completed"
    },
    "tags": []
   },
   "source": [
    "There are several regression methods, but Linear regression in particular is the way you predict the values from the data which is in **linear** format.\n",
    "\n",
    "But what does it mean that the data is in linear format?\n",
    "\n",
    "If the dependent variable increases or decreases with the increse or decrease of your independent variable in uniform way, it's called a linear format.\n",
    "\n",
    "Example:\n",
    "- if you age older, your weight will increase with your age, right? (assuming from birth to adulthood)\n",
    "- With the increase of rounds per minute (rpm) of your wheel, the faster you move, and the faster you get to your destination (assuming no gear changes and no brakes applied)\n",
    "- the less your spending capacity, the less you buy what you want."
   ]
  },
  {
   "cell_type": "markdown",
   "id": "0940eedb",
   "metadata": {
    "papermill": {
     "duration": 0.00375,
     "end_time": "2025-07-18T13:52:45.953378",
     "exception": false,
     "start_time": "2025-07-18T13:52:45.949628",
     "status": "completed"
    },
    "tags": []
   },
   "source": [
    "### **Practical Example with Height-Weight data**"
   ]
  },
  {
   "cell_type": "code",
   "execution_count": 1,
   "id": "865e9452",
   "metadata": {
    "execution": {
     "iopub.execute_input": "2025-07-18T13:52:45.962540Z",
     "iopub.status.busy": "2025-07-18T13:52:45.962234Z",
     "iopub.status.idle": "2025-07-18T13:52:45.969826Z",
     "shell.execute_reply": "2025-07-18T13:52:45.969032Z"
    },
    "papermill": {
     "duration": 0.014062,
     "end_time": "2025-07-18T13:52:45.971369",
     "exception": false,
     "start_time": "2025-07-18T13:52:45.957307",
     "status": "completed"
    },
    "tags": []
   },
   "outputs": [],
   "source": [
    "import numpy as np\n",
    "import matplotlib.pyplot as plt"
   ]
  },
  {
   "cell_type": "markdown",
   "id": "8d3f56a7",
   "metadata": {
    "papermill": {
     "duration": 0.003871,
     "end_time": "2025-07-18T13:52:45.979538",
     "exception": false,
     "start_time": "2025-07-18T13:52:45.975667",
     "status": "completed"
    },
    "tags": []
   },
   "source": [
    "We will be using Numpy for calculations and Matplotlib for plotting the data.\n",
    "\n",
    "Now let's import the Height-Weight dataset."
   ]
  },
  {
   "cell_type": "code",
   "execution_count": 2,
   "id": "a685fa0b",
   "metadata": {
    "execution": {
     "iopub.execute_input": "2025-07-18T13:52:45.989662Z",
     "iopub.status.busy": "2025-07-18T13:52:45.989357Z",
     "iopub.status.idle": "2025-07-18T13:52:46.014640Z",
     "shell.execute_reply": "2025-07-18T13:52:46.013536Z"
    },
    "papermill": {
     "duration": 0.032853,
     "end_time": "2025-07-18T13:52:46.016360",
     "exception": false,
     "start_time": "2025-07-18T13:52:45.983507",
     "status": "completed"
    },
    "tags": []
   },
   "outputs": [
    {
     "name": "stdout",
     "output_type": "stream",
     "text": [
      "[[ 73.84701702 241.89356318]\n",
      " [ 68.78190405 162.31047252]\n",
      " [ 74.11010539 212.74085556]\n",
      " ...\n",
      " [ 63.86799221 128.47531878]\n",
      " [ 69.03424313 163.85246135]\n",
      " [ 61.94424588 113.64910268]]\n",
      "\n",
      " (10000, 2)\n"
     ]
    }
   ],
   "source": [
    "data = np.loadtxt(\"/kaggle/input/weight-hight-dataset/weight-height (1).csv\", delimiter=\",\", skiprows=1, usecols=(1, 2), dtype=\"float\")\n",
    "print(data)\n",
    "print(f\"\\n {data.shape}\")"
   ]
  },
  {
   "cell_type": "markdown",
   "id": "f8c059d0",
   "metadata": {
    "papermill": {
     "duration": 0.003952,
     "end_time": "2025-07-18T13:52:46.024579",
     "exception": false,
     "start_time": "2025-07-18T13:52:46.020627",
     "status": "completed"
    },
    "tags": []
   },
   "source": [
    "As we can see the data, we have height in inches and weight in pounds.\n",
    "\n",
    "And we have 10 thousand rows and 2 columns. That's a lot of data there."
   ]
  },
  {
   "cell_type": "markdown",
   "id": "d6020ef3",
   "metadata": {
    "papermill": {
     "duration": 0.004032,
     "end_time": "2025-07-18T13:52:46.032851",
     "exception": false,
     "start_time": "2025-07-18T13:52:46.028819",
     "status": "completed"
    },
    "tags": []
   },
   "source": [
    "Let's put the Height in **x** and Weight in **y**, so that we can plot and analyze how our data looks like."
   ]
  },
  {
   "cell_type": "code",
   "execution_count": 3,
   "id": "86ea3ea9",
   "metadata": {
    "execution": {
     "iopub.execute_input": "2025-07-18T13:52:46.042346Z",
     "iopub.status.busy": "2025-07-18T13:52:46.042026Z",
     "iopub.status.idle": "2025-07-18T13:52:46.046614Z",
     "shell.execute_reply": "2025-07-18T13:52:46.045718Z"
    },
    "papermill": {
     "duration": 0.011142,
     "end_time": "2025-07-18T13:52:46.048110",
     "exception": false,
     "start_time": "2025-07-18T13:52:46.036968",
     "status": "completed"
    },
    "tags": []
   },
   "outputs": [],
   "source": [
    "x = (data[:, 0]) \n",
    "y = (data[:, 1]) "
   ]
  },
  {
   "cell_type": "code",
   "execution_count": 4,
   "id": "d7e25f81",
   "metadata": {
    "execution": {
     "iopub.execute_input": "2025-07-18T13:52:46.058311Z",
     "iopub.status.busy": "2025-07-18T13:52:46.057935Z",
     "iopub.status.idle": "2025-07-18T13:52:46.396767Z",
     "shell.execute_reply": "2025-07-18T13:52:46.395651Z"
    },
    "papermill": {
     "duration": 0.345672,
     "end_time": "2025-07-18T13:52:46.398253",
     "exception": false,
     "start_time": "2025-07-18T13:52:46.052581",
     "status": "completed"
    },
    "tags": []
   },
   "outputs": [
    {
     "data": {
      "text/plain": [
       "Text(0, 0.5, 'Weight (pounds)')"
      ]
     },
     "execution_count": 4,
     "metadata": {},
     "output_type": "execute_result"
    },
    {
     "data": {
      "image/png": "[encoded data removed]",
      "text/plain": [
       "<Figure size 640x480 with 1 Axes>"
      ]
     },
     "metadata": {},
     "output_type": "display_data"
    }
   ],
   "source": [
    "plt.plot(x, y, \"o\", color=\"black\")\n",
    "plt.grid(True)\n",
    "plt.title(\"Height-Weight Ratio Scattered\")\n",
    "plt.xlabel(\"Height (inches)\")\n",
    "plt.ylabel(\"Weight (pounds)\")"
   ]
  },
  {
   "cell_type": "markdown",
   "id": "93202589",
   "metadata": {
    "papermill": {
     "duration": 0.004983,
     "end_time": "2025-07-18T13:52:46.408367",
     "exception": false,
     "start_time": "2025-07-18T13:52:46.403384",
     "status": "completed"
    },
    "tags": []
   },
   "source": [
    "Woah, this is how our data looks like when we plot into the graph. \n",
    "\n",
    "As you can see, there is a continuous change in weight.\n",
    "5ft tall people range from 40-60 kg.\n",
    "5.5 ft tall people ranging from 55 to almost 90 and so on.\n",
    "\n",
    "Here, we need to find what is the best pattern of height-weight that defines this dataset. By how much weight increases with the increase of height **according to this data**."
   ]
  },
  {
   "cell_type": "markdown",
   "id": "b6783104",
   "metadata": {
    "papermill": {
     "duration": 0.004822,
     "end_time": "2025-07-18T13:52:46.418628",
     "exception": false,
     "start_time": "2025-07-18T13:52:46.413806",
     "status": "completed"
    },
    "tags": []
   },
   "source": [
    "**How are we going to find the pattern though?**\n",
    "\n",
    "We will be using Ordinary Least Squares(OLS) method for this. \n",
    "\n",
    "We did see our data right? We will draw a line such that, each and every point in the graph is the nearest to the line.\n",
    "\n",
    "OLS finds the line that minimizes the sum of squared vertical distances (distance from the point to the line) from each data point to the line. We square the distances to prevent negative and positive errors from canceling each other out, ensuring we're truly minimizing the total error.\n",
    "\n",
    "And that line is called **best-fit line**.\n",
    "\n",
    "Where best-fit line is just a slope i.e. how much y changes due respect to x, in a straight line which starts from when x is 0 (intercept)."
   ]
  },
  {
   "cell_type": "markdown",
   "id": "08638da3",
   "metadata": {
    "papermill": {
     "duration": 0.004592,
     "end_time": "2025-07-18T13:52:46.428238",
     "exception": false,
     "start_time": "2025-07-18T13:52:46.423646",
     "status": "completed"
    },
    "tags": []
   },
   "source": [
    "**Now how are we going to find the best-fit line?**\n",
    "\n",
    "Fortunately, we already have a formula that one-shots the best-fit line for us.\n",
    "\n",
    "1. Calculate the average of x and y (mean)\n",
    "2. Calculate how much x and y vary together i.e. Covariance(x,y)\n",
    "3. Calculate how much x varies by itself i.e. Variance(x)\n",
    "4. Calculate the slope(m) i.e. Covariance(x,y) divided by Variance(x) (how much y changes with respect to x)\n",
    "5. Calculate the intercept i.e. c = avg of (y) - m * avg of (x) (value of y when x=0)\n",
    "\n",
    "Formula is:\n",
    "\n",
    "m = Σ[(xi - x̄)(yi - ȳ)] / Σ[(xi - x̄)²], where xi is the independent variable, x hat is average of x, yi is dependent variable and y hat is average of y."
   ]
  },
  {
   "cell_type": "code",
   "execution_count": 5,
   "id": "0e0519d3",
   "metadata": {
    "execution": {
     "iopub.execute_input": "2025-07-18T13:52:46.439585Z",
     "iopub.status.busy": "2025-07-18T13:52:46.439274Z",
     "iopub.status.idle": "2025-07-18T13:52:46.444984Z",
     "shell.execute_reply": "2025-07-18T13:52:46.444147Z"
    },
    "papermill": {
     "duration": 0.01296,
     "end_time": "2025-07-18T13:52:46.446214",
     "exception": false,
     "start_time": "2025-07-18T13:52:46.433254",
     "status": "completed"
    },
    "tags": []
   },
   "outputs": [
    {
     "name": "stdout",
     "output_type": "stream",
     "text": [
      "66.36755975482124\n",
      "161.44035683283076\n"
     ]
    }
   ],
   "source": [
    "# 1. Calculating the average of x and y\n",
    "\n",
    "x_mean = np.mean(x)\n",
    "y_mean = np.mean(y)\n",
    "\n",
    "print(x_mean)\n",
    "print(y_mean)"
   ]
  },
  {
   "cell_type": "markdown",
   "id": "566c24c1",
   "metadata": {
    "papermill": {
     "duration": 0.004715,
     "end_time": "2025-07-18T13:52:46.456049",
     "exception": false,
     "start_time": "2025-07-18T13:52:46.451334",
     "status": "completed"
    },
    "tags": []
   },
   "source": [
    "Here, the average height is 66.37 inches and the average weight is 161.44 pounds."
   ]
  },
  {
   "cell_type": "code",
   "execution_count": 6,
   "id": "a557b2ac",
   "metadata": {
    "execution": {
     "iopub.execute_input": "2025-07-18T13:52:46.467716Z",
     "iopub.status.busy": "2025-07-18T13:52:46.467401Z",
     "iopub.status.idle": "2025-07-18T13:52:46.690240Z",
     "shell.execute_reply": "2025-07-18T13:52:46.689261Z"
    },
    "papermill": {
     "duration": 0.23071,
     "end_time": "2025-07-18T13:52:46.691865",
     "exception": false,
     "start_time": "2025-07-18T13:52:46.461155",
     "status": "completed"
    },
    "tags": []
   },
   "outputs": [
    {
     "data": {
      "text/plain": [
       "Text(0, 0.5, 'Average Weight (y_mean)')"
      ]
     },
     "execution_count": 6,
     "metadata": {},
     "output_type": "execute_result"
    },
    {
     "data": {
      "image/png": "[encoded data removed]",
      "text/plain": [
       "<Figure size 640x480 with 1 Axes>"
      ]
     },
     "metadata": {},
     "output_type": "display_data"
    }
   ],
   "source": [
    "plt.axvline(x=x_mean, color='green', linestyle='--', label=f'Average Height: {x_mean:.1f}')\n",
    "plt.axhline(y=y_mean, color='green', linestyle='--', label=f'Average Weight: {y_mean:.1f}')\n",
    "\n",
    "plt.scatter(x_mean, y_mean, color=\"red\", s=50)\n",
    "plt.grid(True)\n",
    "plt.xlabel(\"Average Height (x_mean)\")\n",
    "plt.ylabel(\"Average Weight (y_mean)\")"
   ]
  },
  {
   "cell_type": "markdown",
   "id": "7409fee3",
   "metadata": {
    "papermill": {
     "duration": 0.005463,
     "end_time": "2025-07-18T13:52:46.703184",
     "exception": false,
     "start_time": "2025-07-18T13:52:46.697721",
     "status": "completed"
    },
    "tags": []
   },
   "source": [
    "What this means is, our best-fit line should pass through this point or just pass closely to this red point (66.37, 161.44)"
   ]
  },
  {
   "cell_type": "code",
   "execution_count": 7,
   "id": "347a12f6",
   "metadata": {
    "execution": {
     "iopub.execute_input": "2025-07-18T13:52:46.715571Z",
     "iopub.status.busy": "2025-07-18T13:52:46.715262Z",
     "iopub.status.idle": "2025-07-18T13:52:46.723644Z",
     "shell.execute_reply": "2025-07-18T13:52:46.722777Z"
    },
    "papermill": {
     "duration": 0.016354,
     "end_time": "2025-07-18T13:52:46.725157",
     "exception": false,
     "start_time": "2025-07-18T13:52:46.708803",
     "status": "completed"
    },
    "tags": []
   },
   "outputs": [
    {
     "name": "stdout",
     "output_type": "stream",
     "text": [
      "[ 7.47945726  2.41434429  7.74254564 ... -2.49956754  2.66668338\n",
      " -4.42331388] [ 80.45320635   0.87011569  51.30049872 ... -32.96503805   2.41210451\n",
      " -47.79125416]\n"
     ]
    },
    {
     "data": {
      "text/plain": [
       "114.24265644646304"
      ]
     },
     "execution_count": 7,
     "metadata": {},
     "output_type": "execute_result"
    }
   ],
   "source": [
    "# 2. Calculate how much x and y vary together (Σ[(xi - x̄)(yi - ȳ)])\n",
    "\n",
    "x_deviation = x - x_mean\n",
    "y_deviation = y - y_mean\n",
    "\n",
    "print(x_deviation, y_deviation)\n",
    "\n",
    "covariance = np.sum(x_deviation * y_deviation)/(len(x)-1) # or we can just use x_deviation @ y_deviation\n",
    "covariance"
   ]
  },
  {
   "cell_type": "markdown",
   "id": "0ad42ca3",
   "metadata": {
    "papermill": {
     "duration": 0.00536,
     "end_time": "2025-07-18T13:52:46.736230",
     "exception": false,
     "start_time": "2025-07-18T13:52:46.730870",
     "status": "completed"
    },
    "tags": []
   },
   "source": [
    "As we can see above, there are both positive and negative deviations from the mean.\n",
    "\n",
    "x_deviation tells us how much a person is taller or shorter than the average. Positive tells us taller and negative denotes shorter.\n",
    "While, y_deviation tells us how much a person is far or near from average weight.\n",
    "\n",
    "114.24 is our covariance."
   ]
  },
  {
   "cell_type": "code",
   "execution_count": 8,
   "id": "972b909a",
   "metadata": {
    "execution": {
     "iopub.execute_input": "2025-07-18T13:52:46.749153Z",
     "iopub.status.busy": "2025-07-18T13:52:46.748487Z",
     "iopub.status.idle": "2025-07-18T13:52:46.761150Z",
     "shell.execute_reply": "2025-07-18T13:52:46.760226Z"
    },
    "papermill": {
     "duration": 0.020974,
     "end_time": "2025-07-18T13:52:46.762858",
     "exception": false,
     "start_time": "2025-07-18T13:52:46.741884",
     "status": "completed"
    },
    "tags": []
   },
   "outputs": [
    {
     "data": {
      "text/plain": [
       "14.803472640140773"
      ]
     },
     "execution_count": 8,
     "metadata": {},
     "output_type": "execute_result"
    }
   ],
   "source": [
    "# Calculate how much x varies by itself\n",
    "\n",
    "# since we have already calculated the x - x_mean, which is x_deviation, we will use that\n",
    "\n",
    "variance = np.sum((x_deviation) ** 2)/(len(x)-1)\n",
    "variance"
   ]
  },
  {
   "cell_type": "code",
   "execution_count": 9,
   "id": "3a1b9c29",
   "metadata": {
    "execution": {
     "iopub.execute_input": "2025-07-18T13:52:46.775799Z",
     "iopub.status.busy": "2025-07-18T13:52:46.775479Z",
     "iopub.status.idle": "2025-07-18T13:52:46.780060Z",
     "shell.execute_reply": "2025-07-18T13:52:46.779092Z"
    },
    "papermill": {
     "duration": 0.012482,
     "end_time": "2025-07-18T13:52:46.781291",
     "exception": false,
     "start_time": "2025-07-18T13:52:46.768809",
     "status": "completed"
    },
    "tags": []
   },
   "outputs": [
    {
     "name": "stdout",
     "output_type": "stream",
     "text": [
      "7.717287640785389\n"
     ]
    }
   ],
   "source": [
    "# Calculate the slope or our best-fit-line\n",
    "\n",
    "slope = covariance / variance\n",
    "print(slope)"
   ]
  },
  {
   "cell_type": "markdown",
   "id": "1ad48008",
   "metadata": {
    "papermill": {
     "duration": 0.005759,
     "end_time": "2025-07-18T13:52:46.793071",
     "exception": false,
     "start_time": "2025-07-18T13:52:46.787312",
     "status": "completed"
    },
    "tags": []
   },
   "source": [
    "This means, according to our dataset, there is 7.71 pounds of increase with each increase of an inch in height."
   ]
  },
  {
   "cell_type": "code",
   "execution_count": 10,
   "id": "75d02e37",
   "metadata": {
    "execution": {
     "iopub.execute_input": "2025-07-18T13:52:46.806642Z",
     "iopub.status.busy": "2025-07-18T13:52:46.805675Z",
     "iopub.status.idle": "2025-07-18T13:52:46.811701Z",
     "shell.execute_reply": "2025-07-18T13:52:46.810907Z"
    },
    "papermill": {
     "duration": 0.014323,
     "end_time": "2025-07-18T13:52:46.813195",
     "exception": false,
     "start_time": "2025-07-18T13:52:46.798872",
     "status": "completed"
    },
    "tags": []
   },
   "outputs": [
    {
     "data": {
      "text/plain": [
       "-350.737191812137"
      ]
     },
     "execution_count": 10,
     "metadata": {},
     "output_type": "execute_result"
    }
   ],
   "source": [
    "# Calculate the intercept\n",
    "\n",
    "intercept = y_mean - slope * x_mean\n",
    "intercept"
   ]
  },
  {
   "cell_type": "markdown",
   "id": "32254bc7",
   "metadata": {
    "papermill": {
     "duration": 0.005936,
     "end_time": "2025-07-18T13:52:46.825354",
     "exception": false,
     "start_time": "2025-07-18T13:52:46.819418",
     "status": "completed"
    },
    "tags": []
   },
   "source": [
    "Well our intercept is -350.74, but how can this be possible in reality? How can a man be of -350 pounds when his height is 0. But let's find that out by predicting some values."
   ]
  },
  {
   "cell_type": "code",
   "execution_count": 11,
   "id": "0b97488c",
   "metadata": {
    "execution": {
     "iopub.execute_input": "2025-07-18T13:52:46.838451Z",
     "iopub.status.busy": "2025-07-18T13:52:46.837861Z",
     "iopub.status.idle": "2025-07-18T13:52:46.844581Z",
     "shell.execute_reply": "2025-07-18T13:52:46.843651Z"
    },
    "papermill": {
     "duration": 0.014881,
     "end_time": "2025-07-18T13:52:46.845997",
     "exception": false,
     "start_time": "2025-07-18T13:52:46.831116",
     "status": "completed"
    },
    "tags": []
   },
   "outputs": [
    {
     "name": "stdout",
     "output_type": "stream",
     "text": [
      "test height 1: 70.1047862551571\n",
      "test weight 1: 188.922303151274\n",
      "predicted weight 1: 190.28094305883042 \n",
      "\n",
      "test height 2: 61.9442458795172\n",
      "test weight 2: 113.649102675312\n",
      "predicted weight 2: 127.30437133163235\n"
     ]
    }
   ],
   "source": [
    "test_height1 = data[45, 0] # 70.1 inches tall male has weight of 188.92 pounds in our dataset\n",
    "test_weight1 = data[45, 1]\n",
    "print(f\"test height 1: {test_height1}\")\n",
    "print(f\"test weight 1: {test_weight1}\")\n",
    "\n",
    "prediction1 = slope * 70.1047 + intercept\n",
    "print(f\"predicted weight 1: {prediction1} \\n\")\n",
    "\n",
    "test_height2 = data[9999, 0]\n",
    "test_weight2 = data[9999, 1]\n",
    "print(f\"test height 2: {test_height2}\")\n",
    "print(f\"test weight 2: {test_weight2}\")\n",
    "\n",
    "prediction2 = slope * 61.9442458795172 + intercept\n",
    "print(f\"predicted weight 2: {prediction2}\")"
   ]
  }
 ],
 "metadata": {
  "kaggle": {
   "accelerator": "none",
   "dataSources": [
    {
     "datasetId": 7831439,
     "sourceId": 12417261,
     "sourceType": "datasetVersion"
    }
   ],
   "dockerImageVersionId": 31089,
   "isGpuEnabled": false,
   "isInternetEnabled": false,
   "language": "python",
   "sourceType": "notebook"
  },
  "kernelspec": {
   "display_name": "Python 3",
   "language": "python",
   "name": "python3"
  },
  "language_info": {
   "codemirror_mode": {
    "name": "ipython",
    "version": 3
   },
   "file_extension": ".py",
   "mimetype": "text/x-python",
   "name": "python",
   "nbconvert_exporter": "python",
   "pygments_lexer": "ipython3",
   "version": "3.11.13"
  },
  "papermill": {
   "default_parameters": {},
   "duration": 6.201736,
   "end_time": "2025-07-18T13:52:47.270600",
   "environment_variables": {},
   "exception": null,
   "input_path": "__notebook__.ipynb",
   "output_path": "__notebook__.ipynb",
   "parameters": {},
   "start_time": "2025-07-18T13:52:41.068864",
   "version": "2.6.0"
  }
 },
 "nbformat": 4,
 "nbformat_minor": 5
}
