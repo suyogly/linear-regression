{
 "cells": [
  {
   "cell_type": "markdown",
   "id": "43a26d8b",
   "metadata": {
    "papermill": {
     "duration": 0.005582,
     "end_time": "2025-07-18T13:50:39.424262",
     "exception": false,
     "start_time": "2025-07-18T13:50:39.418680",
     "status": "completed"
    },
    "tags": []
   },
   "source": [
    "# **Linear Regression**"
   ]
  },
  {
   "cell_type": "markdown",
   "id": "906ff4b8",
   "metadata": {
    "papermill": {
     "duration": 0.004063,
     "end_time": "2025-07-18T13:50:39.432861",
     "exception": false,
     "start_time": "2025-07-18T13:50:39.428798",
     "status": "completed"
    },
    "tags": []
   },
   "source": [
    "Before diving into Linear Regression, we need to know what exactly \"regression\" is.\n",
    "\n",
    "Regression is basically the way you find the new value from existing values. What does it mean to find the new value from existing values though? \n",
    "\n",
    "Suppose we have a data containing the relationship between the height and the weight.\n",
    "For instance, 5.5 feet - 60 kg, 5.4 feet - 50kg and so on.\n",
    "\n",
    "We will have a lot of these height-weight data. And from that data, we derive a certain pattern. Like, for each feet the weight is X. And then from this pattern, we predict or find the new weight for new height.\n",
    "\n",
    "We will apply this down the line."
   ]
  },
  {
   "cell_type": "markdown",
   "id": "c9386f79",
   "metadata": {
    "papermill": {
     "duration": 0.003938,
     "end_time": "2025-07-18T13:50:39.441028",
     "exception": false,
     "start_time": "2025-07-18T13:50:39.437090",
     "status": "completed"
    },
    "tags": []
   },
   "source": [
    "### **Now what is \"linear\" in Linear Regression?**"
   ]
  },
  {
   "cell_type": "markdown",
   "id": "fcdbb3a9",
   "metadata": {
    "papermill": {
     "duration": 0.003859,
     "end_time": "2025-07-18T13:50:39.449057",
     "exception": false,
     "start_time": "2025-07-18T13:50:39.445198",
     "status": "completed"
    },
    "tags": []
   },
   "source": [
    "There are several regression methods, but Linear regression in particular is the way you predict the values from the data which is in **linear** format.\n",
    "\n",
    "But what does it mean that the data is in linear format?\n",
    "\n",
    "If the dependent variable increases or decreases with the increse or decrease of your independent variable in uniform way, it's called a linear format.\n",
    "\n",
    "Example:\n",
    "- if you age older, your weight will increase with your age, right? (assuming from birth to adulthood)\n",
    "- With the increase of rounds per minute (rpm) of your wheel, the faster you move, and the faster you get to your destination (assuming no gear changes and no brakes applied)\n",
    "- the less your spending capacity, the less you buy what you want."
   ]
  },
  {
   "cell_type": "markdown",
   "id": "0f93f00c",
   "metadata": {
    "papermill": {
     "duration": 0.004337,
     "end_time": "2025-07-18T13:50:39.457603",
     "exception": false,
     "start_time": "2025-07-18T13:50:39.453266",
     "status": "completed"
    },
    "tags": []
   },
   "source": [
    "### **Practical Example with Height-Weight data**"
   ]
  },
  {
   "cell_type": "code",
   "execution_count": 1,
   "id": "7ae3772f",
   "metadata": {
    "execution": {
     "iopub.execute_input": "2025-07-18T13:50:39.467726Z",
     "iopub.status.busy": "2025-07-18T13:50:39.467454Z",
     "iopub.status.idle": "2025-07-18T13:50:39.475607Z",
     "shell.execute_reply": "2025-07-18T13:50:39.474864Z"
    },
    "papermill": {
     "duration": 0.015545,
     "end_time": "2025-07-18T13:50:39.477247",
     "exception": false,
     "start_time": "2025-07-18T13:50:39.461702",
     "status": "completed"
    },
    "tags": []
   },
   "outputs": [],
   "source": [
    "import numpy as np\n",
    "import matplotlib.pyplot as plt"
   ]
  },
  {
   "cell_type": "markdown",
   "id": "cb4c059d",
   "metadata": {
    "papermill": {
     "duration": 0.00389,
     "end_time": "2025-07-18T13:50:39.485589",
     "exception": false,
     "start_time": "2025-07-18T13:50:39.481699",
     "status": "completed"
    },
    "tags": []
   },
   "source": [
    "We will be using Numpy for calculations and Matplotlib for plotting the data.\n",
    "\n",
    "Now let's import the Height-Weight dataset."
   ]
  },
  {
   "cell_type": "code",
   "execution_count": 2,
   "id": "5a7dccab",
   "metadata": {
    "execution": {
     "iopub.execute_input": "2025-07-18T13:50:39.496390Z",
     "iopub.status.busy": "2025-07-18T13:50:39.495713Z",
     "iopub.status.idle": "2025-07-18T13:50:39.519515Z",
     "shell.execute_reply": "2025-07-18T13:50:39.518494Z"
    },
    "papermill": {
     "duration": 0.0315,
     "end_time": "2025-07-18T13:50:39.521164",
     "exception": false,
     "start_time": "2025-07-18T13:50:39.489664",
     "status": "completed"
    },
    "tags": []
   },
   "outputs": [
    {
     "name": "stdout",
     "output_type": "stream",
     "text": [
      "[[ 73.84701702 241.89356318]\n",
      " [ 68.78190405 162.31047252]\n",
      " [ 74.11010539 212.74085556]\n",
      " ...\n",
      " [ 63.86799221 128.47531878]\n",
      " [ 69.03424313 163.85246135]\n",
      " [ 61.94424588 113.64910268]]\n",
      "\n",
      " (10000, 2)\n"
     ]
    }
   ],
   "source": [
    "data = np.loadtxt(\"/kaggle/input/weight-hight-dataset/weight-height (1).csv\", delimiter=\",\", skiprows=1, usecols=(1, 2), dtype=\"float\")\n",
    "print(data)\n",
    "print(f\"\\n {data.shape}\")"
   ]
  },
  {
   "cell_type": "markdown",
   "id": "d73c9762",
   "metadata": {
    "papermill": {
     "duration": 0.004495,
     "end_time": "2025-07-18T13:50:39.530199",
     "exception": false,
     "start_time": "2025-07-18T13:50:39.525704",
     "status": "completed"
    },
    "tags": []
   },
   "source": [
    "As we can see the data, we have height in inches and weight in pounds.\n",
    "\n",
    "And we have 10 thousand rows and 2 columns. That's a lot of data there."
   ]
  },
  {
   "cell_type": "markdown",
   "id": "d8ca6974",
   "metadata": {
    "papermill": {
     "duration": 0.004021,
     "end_time": "2025-07-18T13:50:39.538628",
     "exception": false,
     "start_time": "2025-07-18T13:50:39.534607",
     "status": "completed"
    },
    "tags": []
   },
   "source": [
    "Let's put the Height in **x** and Weight in **y**, so that we can plot and analyze how our data looks like."
   ]
  },
  {
   "cell_type": "code",
   "execution_count": 3,
   "id": "624f22b6",
   "metadata": {
    "execution": {
     "iopub.execute_input": "2025-07-18T13:50:39.548402Z",
     "iopub.status.busy": "2025-07-18T13:50:39.548090Z",
     "iopub.status.idle": "2025-07-18T13:50:39.552956Z",
     "shell.execute_reply": "2025-07-18T13:50:39.551960Z"
    },
    "papermill": {
     "duration": 0.011625,
     "end_time": "2025-07-18T13:50:39.554471",
     "exception": false,
     "start_time": "2025-07-18T13:50:39.542846",
     "status": "completed"
    },
    "tags": []
   },
   "outputs": [],
   "source": [
    "x = (data[:, 0]) \n",
    "y = (data[:, 1]) "
   ]
  },
  {
   "cell_type": "code",
   "execution_count": 4,
   "id": "47258dd5",
   "metadata": {
    "execution": {
     "iopub.execute_input": "2025-07-18T13:50:39.564607Z",
     "iopub.status.busy": "2025-07-18T13:50:39.564274Z",
     "iopub.status.idle": "2025-07-18T13:50:39.899848Z",
     "shell.execute_reply": "2025-07-18T13:50:39.898855Z"
    },
    "papermill": {
     "duration": 0.34262,
     "end_time": "2025-07-18T13:50:39.901533",
     "exception": false,
     "start_time": "2025-07-18T13:50:39.558913",
     "status": "completed"
    },
    "tags": []
   },
   "outputs": [
    {
     "data": {
      "text/plain": [
       "Text(0, 0.5, 'Weight (pounds)')"
      ]
     },
     "execution_count": 4,
     "metadata": {},
     "output_type": "execute_result"
    },
    {
     "data": {
      "image/png": "[encoded data removed]",
      "text/plain": [
       "<Figure size 640x480 with 1 Axes>"
      ]
     },
     "metadata": {},
     "output_type": "display_data"
    }
   ],
   "source": [
    "plt.plot(x, y, \"o\")\n",
    "plt.grid(True)\n",
    "plt.title(\"Height-Weight Ratio Scattered\")\n",
    "plt.xlabel(\"Height (inches)\")\n",
    "plt.ylabel(\"Weight (pounds)\")"
   ]
  },
  {
   "cell_type": "markdown",
   "id": "2e8c2c64",
   "metadata": {
    "papermill": {
     "duration": 0.005246,
     "end_time": "2025-07-18T13:50:39.912228",
     "exception": false,
     "start_time": "2025-07-18T13:50:39.906982",
     "status": "completed"
    },
    "tags": []
   },
   "source": [
    "Woah, this is how our data looks like when we plot into the graph. \n",
    "\n",
    "As you can see, there is a continuous change in weight.\n",
    "5ft tall people range from 40-60 kg.\n",
    "5.5 ft tall people ranging from 55 to almost 90 and so on.\n",
    "\n",
    "Here, we need to find what is the best pattern of height-weight that defines this dataset. By how much weight increases with the increase of height **according to this data**."
   ]
  },
  {
   "cell_type": "markdown",
   "id": "1fe4163f",
   "metadata": {
    "papermill": {
     "duration": 0.004814,
     "end_time": "2025-07-18T13:50:39.922355",
     "exception": false,
     "start_time": "2025-07-18T13:50:39.917541",
     "status": "completed"
    },
    "tags": []
   },
   "source": [
    "**How are we going to find the pattern though?**\n",
    "\n",
    "We will be using Ordinary Least Squares(OLS) method for this. \n",
    "\n",
    "We did see our data right? We will draw a line such that, each and every point in the graph is the nearest to the line.\n",
    "\n",
    "OLS finds the line that minimizes the sum of squared vertical distances (distance from the point to the line) from each data point to the line. We square the distances to prevent negative and positive errors from canceling each other out, ensuring we're truly minimizing the total error.\n",
    "\n",
    "And that line is called **best-fit line**.\n",
    "\n",
    "Where best-fit line is just a slope i.e. how much y changes due respect to x, in a straight line which starts from when x is 0 (intercept)."
   ]
  },
  {
   "cell_type": "markdown",
   "id": "ef7deab8",
   "metadata": {
    "papermill": {
     "duration": 0.004621,
     "end_time": "2025-07-18T13:50:39.931832",
     "exception": false,
     "start_time": "2025-07-18T13:50:39.927211",
     "status": "completed"
    },
    "tags": []
   },
   "source": [
    "**Now how are we going to find the best-fit line?**\n",
    "\n",
    "Fortunately, we already have a formula that one-shots the best-fit line for us.\n",
    "\n",
    "1. Calculate the average of x and y (mean)\n",
    "2. Calculate how much x and y vary together i.e. Covariance(x,y)\n",
    "3. Calculate how much x varies by itself i.e. Variance(x)\n",
    "4. Calculate the slope(m) i.e. Covariance(x,y) divided by Variance(x) (how much y changes with respect to x)\n",
    "5. Calculate the intercept i.e. c = avg of (y) - m * avg of (x) (value of y when x=0)\n",
    "\n",
    "Formula is:\n",
    "\n",
    "m = Σ[(xi - x̄)(yi - ȳ)] / Σ[(xi - x̄)²], where xi is the independent variable, x hat is average of x, yi is dependent variable and y hat is average of y."
   ]
  },
  {
   "cell_type": "code",
   "execution_count": 5,
   "id": "f1856d08",
   "metadata": {
    "execution": {
     "iopub.execute_input": "2025-07-18T13:50:39.943493Z",
     "iopub.status.busy": "2025-07-18T13:50:39.943167Z",
     "iopub.status.idle": "2025-07-18T13:50:39.949350Z",
     "shell.execute_reply": "2025-07-18T13:50:39.948065Z"
    },
    "papermill": {
     "duration": 0.014356,
     "end_time": "2025-07-18T13:50:39.951052",
     "exception": false,
     "start_time": "2025-07-18T13:50:39.936696",
     "status": "completed"
    },
    "tags": []
   },
   "outputs": [
    {
     "name": "stdout",
     "output_type": "stream",
     "text": [
      "66.36755975482124\n",
      "161.44035683283076\n"
     ]
    }
   ],
   "source": [
    "# 1. Calculating the average of x and y\n",
    "\n",
    "x_mean = np.mean(x)\n",
    "y_mean = np.mean(y)\n",
    "\n",
    "print(x_mean)\n",
    "print(y_mean)"
   ]
  },
  {
   "cell_type": "markdown",
   "id": "6c773825",
   "metadata": {
    "papermill": {
     "duration": 0.004858,
     "end_time": "2025-07-18T13:50:39.961142",
     "exception": false,
     "start_time": "2025-07-18T13:50:39.956284",
     "status": "completed"
    },
    "tags": []
   },
   "source": [
    "Here, the average height is 66.37 inches and the average weight is 161.44 pounds."
   ]
  },
  {
   "cell_type": "code",
   "execution_count": 6,
   "id": "7eb3c92f",
   "metadata": {
    "execution": {
     "iopub.execute_input": "2025-07-18T13:50:39.972673Z",
     "iopub.status.busy": "2025-07-18T13:50:39.972356Z",
     "iopub.status.idle": "2025-07-18T13:50:40.199212Z",
     "shell.execute_reply": "2025-07-18T13:50:40.198241Z"
    },
    "papermill": {
     "duration": 0.234316,
     "end_time": "2025-07-18T13:50:40.200618",
     "exception": false,
     "start_time": "2025-07-18T13:50:39.966302",
     "status": "completed"
    },
    "tags": []
   },
   "outputs": [
    {
     "data": {
      "text/plain": [
       "Text(0, 0.5, 'Average Weight (y_mean)')"
      ]
     },
     "execution_count": 6,
     "metadata": {},
     "output_type": "execute_result"
    },
    {
     "data": {
      "image/png": "[encoded data removed]",
      "text/plain": [
       "<Figure size 640x480 with 1 Axes>"
      ]
     },
     "metadata": {},
     "output_type": "display_data"
    }
   ],
   "source": [
    "plt.axvline(x=x_mean, color='green', linestyle='--', label=f'Average Height: {x_mean:.1f}')\n",
    "plt.axhline(y=y_mean, color='green', linestyle='--', label=f'Average Weight: {y_mean:.1f}')\n",
    "\n",
    "plt.scatter(x_mean, y_mean, color=\"blue\", s=50)\n",
    "plt.grid(True)\n",
    "plt.xlabel(\"Average Height (x_mean)\")\n",
    "plt.ylabel(\"Average Weight (y_mean)\")"
   ]
  },
  {
   "cell_type": "markdown",
   "id": "a6fdf998",
   "metadata": {
    "papermill": {
     "duration": 0.005621,
     "end_time": "2025-07-18T13:50:40.212175",
     "exception": false,
     "start_time": "2025-07-18T13:50:40.206554",
     "status": "completed"
    },
    "tags": []
   },
   "source": [
    "What this means is, our best-fit line should pass through this point or just pass closely to this blue point (66.37, 161.44)"
   ]
  },
  {
   "cell_type": "code",
   "execution_count": 7,
   "id": "327000c7",
   "metadata": {
    "execution": {
     "iopub.execute_input": "2025-07-18T13:50:40.225156Z",
     "iopub.status.busy": "2025-07-18T13:50:40.224748Z",
     "iopub.status.idle": "2025-07-18T13:50:40.233808Z",
     "shell.execute_reply": "2025-07-18T13:50:40.232884Z"
    },
    "papermill": {
     "duration": 0.017436,
     "end_time": "2025-07-18T13:50:40.235349",
     "exception": false,
     "start_time": "2025-07-18T13:50:40.217913",
     "status": "completed"
    },
    "tags": []
   },
   "outputs": [
    {
     "name": "stdout",
     "output_type": "stream",
     "text": [
      "[ 7.47945726  2.41434429  7.74254564 ... -2.49956754  2.66668338\n",
      " -4.42331388] [ 80.45320635   0.87011569  51.30049872 ... -32.96503805   2.41210451\n",
      " -47.79125416]\n"
     ]
    },
    {
     "data": {
      "text/plain": [
       "114.24265644646304"
      ]
     },
     "execution_count": 7,
     "metadata": {},
     "output_type": "execute_result"
    }
   ],
   "source": [
    "# 2. Calculate how much x and y vary together (Σ[(xi - x̄)(yi - ȳ)])\n",
    "\n",
    "x_deviation = x - x_mean\n",
    "y_deviation = y - y_mean\n",
    "\n",
    "print(x_deviation, y_deviation)\n",
    "\n",
    "covariance = np.sum(x_deviation * y_deviation)/(len(x)-1) # or we can just use x_deviation @ y_deviation\n",
    "covariance"
   ]
  },
  {
   "cell_type": "markdown",
   "id": "ae6e77bc",
   "metadata": {
    "papermill": {
     "duration": 0.005359,
     "end_time": "2025-07-18T13:50:40.246440",
     "exception": false,
     "start_time": "2025-07-18T13:50:40.241081",
     "status": "completed"
    },
    "tags": []
   },
   "source": [
    "As we can see above, there are both positive and negative deviations from the mean.\n",
    "\n",
    "x_deviation tells us how much a person is taller or shorter than the average. Positive tells us taller and negative denotes shorter.\n",
    "While, y_deviation tells us how much a person is far or near from average weight.\n",
    "\n",
    "114.24 is our covariance."
   ]
  },
  {
   "cell_type": "code",
   "execution_count": 8,
   "id": "33522b63",
   "metadata": {
    "execution": {
     "iopub.execute_input": "2025-07-18T13:50:40.259146Z",
     "iopub.status.busy": "2025-07-18T13:50:40.258687Z",
     "iopub.status.idle": "2025-07-18T13:50:40.279230Z",
     "shell.execute_reply": "2025-07-18T13:50:40.278307Z"
    },
    "papermill": {
     "duration": 0.028543,
     "end_time": "2025-07-18T13:50:40.280677",
     "exception": false,
     "start_time": "2025-07-18T13:50:40.252134",
     "status": "completed"
    },
    "tags": []
   },
   "outputs": [
    {
     "data": {
      "text/plain": [
       "14.803472640140773"
      ]
     },
     "execution_count": 8,
     "metadata": {},
     "output_type": "execute_result"
    }
   ],
   "source": [
    "# Calculate how much x varies by itself\n",
    "\n",
    "# since we have already calculated the x - x_mean, which is x_deviation, we will use that\n",
    "\n",
    "variance = np.sum((x_deviation) ** 2)/(len(x)-1)\n",
    "variance"
   ]
  },
  {
   "cell_type": "code",
   "execution_count": 9,
   "id": "ad49cb91",
   "metadata": {
    "execution": {
     "iopub.execute_input": "2025-07-18T13:50:40.293608Z",
     "iopub.status.busy": "2025-07-18T13:50:40.293297Z",
     "iopub.status.idle": "2025-07-18T13:50:40.298506Z",
     "shell.execute_reply": "2025-07-18T13:50:40.297499Z"
    },
    "papermill": {
     "duration": 0.013771,
     "end_time": "2025-07-18T13:50:40.300228",
     "exception": false,
     "start_time": "2025-07-18T13:50:40.286457",
     "status": "completed"
    },
    "tags": []
   },
   "outputs": [
    {
     "name": "stdout",
     "output_type": "stream",
     "text": [
      "7.717287640785389\n"
     ]
    }
   ],
   "source": [
    "# Calculate the slope or our best-fit-line\n",
    "\n",
    "slope = covariance / variance\n",
    "print(slope)"
   ]
  },
  {
   "cell_type": "markdown",
   "id": "1201ead8",
   "metadata": {
    "papermill": {
     "duration": 0.005672,
     "end_time": "2025-07-18T13:50:40.312022",
     "exception": false,
     "start_time": "2025-07-18T13:50:40.306350",
     "status": "completed"
    },
    "tags": []
   },
   "source": [
    "This means, according to our dataset, there is 7.71 pounds of increase with each increase of an inch in height."
   ]
  },
  {
   "cell_type": "code",
   "execution_count": 10,
   "id": "f8882011",
   "metadata": {
    "execution": {
     "iopub.execute_input": "2025-07-18T13:50:40.325251Z",
     "iopub.status.busy": "2025-07-18T13:50:40.324508Z",
     "iopub.status.idle": "2025-07-18T13:50:40.330850Z",
     "shell.execute_reply": "2025-07-18T13:50:40.329991Z"
    },
    "papermill": {
     "duration": 0.014605,
     "end_time": "2025-07-18T13:50:40.332330",
     "exception": false,
     "start_time": "2025-07-18T13:50:40.317725",
     "status": "completed"
    },
    "tags": []
   },
   "outputs": [
    {
     "data": {
      "text/plain": [
       "-350.737191812137"
      ]
     },
     "execution_count": 10,
     "metadata": {},
     "output_type": "execute_result"
    }
   ],
   "source": [
    "# Calculate the intercept\n",
    "\n",
    "intercept = y_mean - slope * x_mean\n",
    "intercept"
   ]
  },
  {
   "cell_type": "markdown",
   "id": "a97325b8",
   "metadata": {
    "papermill": {
     "duration": 0.005857,
     "end_time": "2025-07-18T13:50:40.344289",
     "exception": false,
     "start_time": "2025-07-18T13:50:40.338432",
     "status": "completed"
    },
    "tags": []
   },
   "source": [
    "Well our intercept is -350.74, but how can this be possible in reality? How can a man be of -350 pounds when his height is 0. But let's find that out by predicting some values."
   ]
  },
  {
   "cell_type": "code",
   "execution_count": 11,
   "id": "3e00809a",
   "metadata": {
    "execution": {
     "iopub.execute_input": "2025-07-18T13:50:40.357540Z",
     "iopub.status.busy": "2025-07-18T13:50:40.357224Z",
     "iopub.status.idle": "2025-07-18T13:50:40.364341Z",
     "shell.execute_reply": "2025-07-18T13:50:40.363157Z"
    },
    "papermill": {
     "duration": 0.015824,
     "end_time": "2025-07-18T13:50:40.366081",
     "exception": false,
     "start_time": "2025-07-18T13:50:40.350257",
     "status": "completed"
    },
    "tags": []
   },
   "outputs": [
    {
     "name": "stdout",
     "output_type": "stream",
     "text": [
      "test height 1: 70.1047862551571\n",
      "test weight 1: 188.922303151274\n",
      "predicted weight 1: 190.28094305883042 \n",
      "\n",
      "test height 2: 61.9442458795172\n",
      "test weight 2: 113.649102675312\n",
      "predicted weight 2: 127.30437133163235\n"
     ]
    }
   ],
   "source": [
    "test_height1 = data[45, 0] # 70.1 inches tall male has weight of 188.92 pounds in our dataset\n",
    "test_weight1 = data[45, 1]\n",
    "print(f\"test height 1: {test_height1}\")\n",
    "print(f\"test weight 1: {test_weight1}\")\n",
    "\n",
    "prediction1 = slope * 70.1047 + intercept\n",
    "print(f\"predicted weight 1: {prediction1} \\n\")\n",
    "\n",
    "test_height2 = data[9999, 0]\n",
    "test_weight2 = data[9999, 1]\n",
    "print(f\"test height 2: {test_height2}\")\n",
    "print(f\"test weight 2: {test_weight2}\")\n",
    "\n",
    "prediction2 = slope * 61.9442458795172 + intercept\n",
    "print(f\"predicted weight 2: {prediction2}\")"
   ]
  }
 ],
 "metadata": {
  "kaggle": {
   "accelerator": "none",
   "dataSources": [
    {
     "datasetId": 7831439,
     "sourceId": 12417261,
     "sourceType": "datasetVersion"
    }
   ],
   "dockerImageVersionId": 31089,
   "isGpuEnabled": false,
   "isInternetEnabled": false,
   "language": "python",
   "sourceType": "notebook"
  },
  "kernelspec": {
   "display_name": "Python 3",
   "language": "python",
   "name": "python3"
  },
  "language_info": {
   "codemirror_mode": {
    "name": "ipython",
    "version": 3
   },
   "file_extension": ".py",
   "mimetype": "text/x-python",
   "name": "python",
   "nbconvert_exporter": "python",
   "pygments_lexer": "ipython3",
   "version": "3.11.13"
  },
  "papermill": {
   "default_parameters": {},
   "duration": 6.594554,
   "end_time": "2025-07-18T13:50:40.792106",
   "environment_variables": {},
   "exception": null,
   "input_path": "__notebook__.ipynb",
   "output_path": "__notebook__.ipynb",
   "parameters": {},
   "start_time": "2025-07-18T13:50:34.197552",
   "version": "2.6.0"
  }
 },
 "nbformat": 4,
 "nbformat_minor": 5
}
