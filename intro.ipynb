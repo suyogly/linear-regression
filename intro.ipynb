{
 "cells": [
  {
   "cell_type": "markdown",
   "id": "8166d2ba",
   "metadata": {
    "papermill": {
     "duration": 0.004131,
     "end_time": "2025-07-17T16:39:15.246898",
     "exception": false,
     "start_time": "2025-07-17T16:39:15.242767",
     "status": "completed"
    },
    "tags": []
   },
   "source": [
    "# **Linear Regression**"
   ]
  },
  {
   "cell_type": "markdown",
   "id": "ca05b1fd",
   "metadata": {
    "papermill": {
     "duration": 0.00295,
     "end_time": "2025-07-17T16:39:15.253704",
     "exception": false,
     "start_time": "2025-07-17T16:39:15.250754",
     "status": "completed"
    },
    "tags": []
   },
   "source": [
    "Before diving into Linear Regression, we need to know what exactly \"regression\" is.\n",
    "\n",
    "Regression is basically the way you find the new value from existing values. What does it mean to find the new value from existing values though? \n",
    "\n",
    "Suppose we have a data containing the relationship between the height and the weight.\n",
    "For instance, 5.5 feet - 60 kg, 5.4 feet - 50kg and so on.\n",
    "\n",
    "We will have a lot of these height-weight data. And from that data, we derive a certain pattern. Like, for each feet the weight is X. And then from this pattern, we predict or find the new weight for new height.\n",
    "\n",
    "We will apply this down the line."
   ]
  },
  {
   "cell_type": "markdown",
   "id": "5531bd10",
   "metadata": {
    "papermill": {
     "duration": 0.002352,
     "end_time": "2025-07-17T16:39:15.258791",
     "exception": false,
     "start_time": "2025-07-17T16:39:15.256439",
     "status": "completed"
    },
    "tags": []
   },
   "source": [
    "### **Now what is \"linear\" in Linear Regression?**"
   ]
  },
  {
   "cell_type": "markdown",
   "id": "db00816b",
   "metadata": {
    "papermill": {
     "duration": 0.002352,
     "end_time": "2025-07-17T16:39:15.263722",
     "exception": false,
     "start_time": "2025-07-17T16:39:15.261370",
     "status": "completed"
    },
    "tags": []
   },
   "source": [
    "There are several regression methods, but Linear regression in particular is the way you predict the values from the data which is in **linear** format.\n",
    "\n",
    "But what does it mean that the data is in linear format?\n",
    "\n",
    "If the dependent variable increases or decreases with the increse or decrease of your independent variable in uniform way, it's called a linear format.\n",
    "\n",
    "Example:\n",
    "- if you age older, your weight will increase with your age, right? (assuming from birth to adulthood)\n",
    "- With the increase of rounds per minute (rpm) of your wheel, the faster you move, and the faster you get to your destination (assuming no gear changes and no brakes applied)\n",
    "- the less your spending capacity, the less you buy what you want."
   ]
  },
  {
   "cell_type": "markdown",
   "id": "765b5894",
   "metadata": {
    "papermill": {
     "duration": 0.002316,
     "end_time": "2025-07-17T16:39:15.268560",
     "exception": false,
     "start_time": "2025-07-17T16:39:15.266244",
     "status": "completed"
    },
    "tags": []
   },
   "source": [
    "### **Practical Example with Height-Weight data**"
   ]
  },
  {
   "cell_type": "code",
   "execution_count": 1,
   "id": "18122aa7",
   "metadata": {
    "execution": {
     "iopub.execute_input": "2025-07-17T16:39:15.275026Z",
     "iopub.status.busy": "2025-07-17T16:39:15.274593Z",
     "iopub.status.idle": "2025-07-17T16:39:15.284239Z",
     "shell.execute_reply": "2025-07-17T16:39:15.283302Z"
    },
    "papermill": {
     "duration": 0.015083,
     "end_time": "2025-07-17T16:39:15.286107",
     "exception": false,
     "start_time": "2025-07-17T16:39:15.271024",
     "status": "completed"
    },
    "tags": []
   },
   "outputs": [],
   "source": [
    "import numpy as np\n",
    "import matplotlib.pyplot as plt"
   ]
  },
  {
   "cell_type": "markdown",
   "id": "62049772",
   "metadata": {
    "papermill": {
     "duration": 0.002406,
     "end_time": "2025-07-17T16:39:15.291464",
     "exception": false,
     "start_time": "2025-07-17T16:39:15.289058",
     "status": "completed"
    },
    "tags": []
   },
   "source": [
    "We will be using Numpy for calculations and Matplotlib for plotting the data.\n",
    "\n",
    "Now let's import the Height-Weight dataset."
   ]
  },
  {
   "cell_type": "code",
   "execution_count": 2,
   "id": "bc02783c",
   "metadata": {
    "execution": {
     "iopub.execute_input": "2025-07-17T16:39:15.298100Z",
     "iopub.status.busy": "2025-07-17T16:39:15.297730Z",
     "iopub.status.idle": "2025-07-17T16:39:15.328696Z",
     "shell.execute_reply": "2025-07-17T16:39:15.327666Z"
    },
    "papermill": {
     "duration": 0.036525,
     "end_time": "2025-07-17T16:39:15.330624",
     "exception": false,
     "start_time": "2025-07-17T16:39:15.294099",
     "status": "completed"
    },
    "tags": []
   },
   "outputs": [
    {
     "name": "stdout",
     "output_type": "stream",
     "text": [
      "[[ 73.84701702 241.89356318]\n",
      " [ 68.78190405 162.31047252]\n",
      " [ 74.11010539 212.74085556]\n",
      " ...\n",
      " [ 63.86799221 128.47531878]\n",
      " [ 69.03424313 163.85246135]\n",
      " [ 61.94424588 113.64910268]]\n",
      "\n",
      " (10000, 2)\n"
     ]
    }
   ],
   "source": [
    "data = np.loadtxt(\"/kaggle/input/weight-hight-dataset/weight-height (1).csv\", delimiter=\",\", skiprows=1, usecols=(1, 2))\n",
    "print(data)\n",
    "print(f\"\\n {data.shape}\")"
   ]
  },
  {
   "cell_type": "markdown",
   "id": "4bfde364",
   "metadata": {
    "papermill": {
     "duration": 0.002959,
     "end_time": "2025-07-17T16:39:15.336601",
     "exception": false,
     "start_time": "2025-07-17T16:39:15.333642",
     "status": "completed"
    },
    "tags": []
   },
   "source": [
    "As we can see the data, we have height in inches and weight in pounds.\n",
    "\n",
    "And we have 10 thousand rows and 2 columns. That's a lot of data there."
   ]
  },
  {
   "cell_type": "markdown",
   "id": "0c0d2de6",
   "metadata": {
    "papermill": {
     "duration": 0.002491,
     "end_time": "2025-07-17T16:39:15.341825",
     "exception": false,
     "start_time": "2025-07-17T16:39:15.339334",
     "status": "completed"
    },
    "tags": []
   },
   "source": [
    "Let's put the Height in **x** and Weight in **y**, so that we can plot and analyze how our data looks like."
   ]
  },
  {
   "cell_type": "code",
   "execution_count": 3,
   "id": "44e6f8f1",
   "metadata": {
    "execution": {
     "iopub.execute_input": "2025-07-17T16:39:15.348469Z",
     "iopub.status.busy": "2025-07-17T16:39:15.348161Z",
     "iopub.status.idle": "2025-07-17T16:39:15.353227Z",
     "shell.execute_reply": "2025-07-17T16:39:15.352275Z"
    },
    "papermill": {
     "duration": 0.010329,
     "end_time": "2025-07-17T16:39:15.354849",
     "exception": false,
     "start_time": "2025-07-17T16:39:15.344520",
     "status": "completed"
    },
    "tags": []
   },
   "outputs": [],
   "source": [
    "x = (data[:, 0]/12)\n",
    "y = (data[:, 1]/2.205)"
   ]
  },
  {
   "cell_type": "code",
   "execution_count": 4,
   "id": "5b49c79a",
   "metadata": {
    "execution": {
     "iopub.execute_input": "2025-07-17T16:39:15.362750Z",
     "iopub.status.busy": "2025-07-17T16:39:15.361835Z",
     "iopub.status.idle": "2025-07-17T16:39:15.748361Z",
     "shell.execute_reply": "2025-07-17T16:39:15.747519Z"
    },
    "papermill": {
     "duration": 0.392384,
     "end_time": "2025-07-17T16:39:15.750353",
     "exception": false,
     "start_time": "2025-07-17T16:39:15.357969",
     "status": "completed"
    },
    "tags": []
   },
   "outputs": [
    {
     "data": {
      "text/plain": [
       "Text(0, 0.5, 'Weight (kg)')"
      ]
     },
     "execution_count": 4,
     "metadata": {},
     "output_type": "execute_result"
    },
    {
     "data": {
      "image/png": "[encoded data removed]",
      "text/plain": [
       "<Figure size 640x480 with 1 Axes>"
      ]
     },
     "metadata": {},
     "output_type": "display_data"
    }
   ],
   "source": [
    "plt.plot(x, y, \"o\")\n",
    "plt.grid(True)\n",
    "plt.title(\"Height-Weight Ratio Scattered\")\n",
    "plt.xlabel(\"Height (ft)\")\n",
    "plt.ylabel(\"Weight (kg)\")"
   ]
  },
  {
   "cell_type": "markdown",
   "id": "4b6f62b5",
   "metadata": {
    "papermill": {
     "duration": 0.004587,
     "end_time": "2025-07-17T16:39:15.759110",
     "exception": false,
     "start_time": "2025-07-17T16:39:15.754523",
     "status": "completed"
    },
    "tags": []
   },
   "source": [
    "Woah, this is how our data looks like when we plot into the graph. \n",
    "\n",
    "So, what's happening here? \n",
    "5ft tall people range from 40-60 kg.\n",
    "5.5 ft tall people ranging from 55 to almost 90 and so on.\n",
    "\n",
    "Here, we need to find what is the best pattern of height-weight that defines this dataset. By how much weight increases with the increase of height **according to this data**."
   ]
  },
  {
   "cell_type": "code",
   "execution_count": null,
   "id": "fba70c08",
   "metadata": {
    "papermill": {
     "duration": 0.003607,
     "end_time": "2025-07-17T16:39:15.766452",
     "exception": false,
     "start_time": "2025-07-17T16:39:15.762845",
     "status": "completed"
    },
    "tags": []
   },
   "outputs": [],
   "source": []
  }
 ],
 "metadata": {
  "kaggle": {
   "accelerator": "none",
   "dataSources": [
    {
     "datasetId": 7831439,
     "sourceId": 12417261,
     "sourceType": "datasetVersion"
    }
   ],
   "dockerImageVersionId": 31089,
   "isGpuEnabled": false,
   "isInternetEnabled": false,
   "language": "python",
   "sourceType": "notebook"
  },
  "kernelspec": {
   "display_name": "Python 3",
   "language": "python",
   "name": "python3"
  },
  "language_info": {
   "codemirror_mode": {
    "name": "ipython",
    "version": 3
   },
   "file_extension": ".py",
   "mimetype": "text/x-python",
   "name": "python",
   "nbconvert_exporter": "python",
   "pygments_lexer": "ipython3",
   "version": "3.11.13"
  },
  "papermill": {
   "default_parameters": {},
   "duration": 6.160404,
   "end_time": "2025-07-17T16:39:16.192706",
   "environment_variables": {},
   "exception": null,
   "input_path": "__notebook__.ipynb",
   "output_path": "__notebook__.ipynb",
   "parameters": {},
   "start_time": "2025-07-17T16:39:10.032302",
   "version": "2.6.0"
  }
 },
 "nbformat": 4,
 "nbformat_minor": 5
}
