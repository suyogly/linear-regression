{
 "cells": [
  {
   "cell_type": "markdown",
   "id": "f60af927",
   "metadata": {
    "papermill": {
     "duration": 0.001744,
     "end_time": "2025-07-25T15:04:16.466552",
     "exception": false,
     "start_time": "2025-07-25T15:04:16.464808",
     "status": "completed"
    },
    "tags": []
   },
   "source": [
    "# **Gradient Descent**"
   ]
  },
  {
   "cell_type": "markdown",
   "id": "84b38588",
   "metadata": {
    "papermill": {
     "duration": 0.000979,
     "end_time": "2025-07-25T15:04:16.469112",
     "exception": false,
     "start_time": "2025-07-25T15:04:16.468133",
     "status": "completed"
    },
    "tags": []
   },
   "source": [
    "Last time, we implemented the simple linear regression using Ordinary Least Squared Method. OLS is perfect for one independent variable, but it gets messy when there are more independent variables. We find the least amount of squared difference in actual vs predicted value in OLS. \n",
    "\n",
    "However, gradient descent is different. It is a way to find the minimum value of a function, by iteratively taking steps in the direction of the steepest descent of the function\n",
    "\n",
    "Yeah Yeah. \n",
    "\n",
    "To understand the gradient descent, we need to under"
   ]
  }
 ],
 "metadata": {
  "kaggle": {
   "accelerator": "none",
   "dataSources": [],
   "isGpuEnabled": false,
   "isInternetEnabled": false,
   "language": "python",
   "sourceType": "notebook"
  },
  "kernelspec": {
   "display_name": "Python 3",
   "language": "python",
   "name": "python3"
  },
  "language_info": {
   "codemirror_mode": {
    "name": "ipython",
    "version": 3
   },
   "file_extension": ".py",
   "mimetype": "text/x-python",
   "name": "python",
   "nbconvert_exporter": "python",
   "pygments_lexer": "ipython3",
   "version": "3.11.13"
  },
  "papermill": {
   "default_parameters": {},
   "duration": 8.181639,
   "end_time": "2025-07-25T15:04:19.494698",
   "environment_variables": {},
   "exception": null,
   "input_path": "__notebook__.ipynb",
   "output_path": "__notebook__.ipynb",
   "parameters": {},
   "start_time": "2025-07-25T15:04:11.313059",
   "version": "2.6.0"
  }
 },
 "nbformat": 4,
 "nbformat_minor": 5
}
