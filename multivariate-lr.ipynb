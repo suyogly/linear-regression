{
 "cells": [
  {
   "cell_type": "code",
   "execution_count": 1,
   "id": "0eff07a5",
   "metadata": {
    "_cell_guid": "b1076dfc-b9ad-4769-8c92-a6c4dae69d19",
    "_uuid": "8f2839f25d086af736a60e9eeb907d3b93b6e0e5",
    "execution": {
     "iopub.execute_input": "2025-09-13T10:59:52.517324Z",
     "iopub.status.busy": "2025-09-13T10:59:52.516979Z",
     "iopub.status.idle": "2025-09-13T10:59:52.526394Z",
     "shell.execute_reply": "2025-09-13T10:59:52.525056Z"
    },
    "papermill": {
     "duration": 0.015785,
     "end_time": "2025-09-13T10:59:52.528479",
     "exception": false,
     "start_time": "2025-09-13T10:59:52.512694",
     "status": "completed"
    },
    "tags": []
   },
   "outputs": [],
   "source": [
    "import numpy as np\n",
    "import matplotlib.pyplot as plt"
   ]
  },
  {
   "cell_type": "code",
   "execution_count": 2,
   "id": "ff67636f",
   "metadata": {
    "execution": {
     "iopub.execute_input": "2025-09-13T10:59:52.535139Z",
     "iopub.status.busy": "2025-09-13T10:59:52.534770Z",
     "iopub.status.idle": "2025-09-13T10:59:52.558185Z",
     "shell.execute_reply": "2025-09-13T10:59:52.556908Z"
    },
    "papermill": {
     "duration": 0.028635,
     "end_time": "2025-09-13T10:59:52.560100",
     "exception": false,
     "start_time": "2025-09-13T10:59:52.531465",
     "status": "completed"
    },
    "tags": []
   },
   "outputs": [
    {
     "name": "stdout",
     "output_type": "stream",
     "text": [
      "        Area     Bedroom   Bath    Floor Price\n"
     ]
    },
    {
     "data": {
      "text/plain": [
       "array([[1.36000e+03, 5.00000e+00, 4.00000e+00, 3.00000e+00, 1.49919e+05],\n",
       "       [4.27200e+03, 5.00000e+00, 4.00000e+00, 3.00000e+00, 4.24998e+05],\n",
       "       [3.59200e+03, 2.00000e+00, 2.00000e+00, 3.00000e+00, 2.66746e+05],\n",
       "       ...,\n",
       "       [1.06200e+03, 5.00000e+00, 1.00000e+00, 2.00000e+00, 4.76925e+05],\n",
       "       [4.06200e+03, 3.00000e+00, 1.00000e+00, 2.00000e+00, 1.61119e+05],\n",
       "       [2.98900e+03, 5.00000e+00, 1.00000e+00, 3.00000e+00, 4.82525e+05]])"
      ]
     },
     "execution_count": 2,
     "metadata": {},
     "output_type": "execute_result"
    }
   ],
   "source": [
    "dataset = np.loadtxt(\"/kaggle/input/house-price-prediction-dataset/House Price Prediction Dataset.csv\", delimiter=\",\", skiprows=1, usecols=(1, 2, 3, 4, 9), dtype=\"float\")\n",
    "print(\"        Area     Bedroom   Bath    Floor Price\")\n",
    "dataset"
   ]
  },
  {
   "cell_type": "code",
   "execution_count": 3,
   "id": "9686aa13",
   "metadata": {
    "execution": {
     "iopub.execute_input": "2025-09-13T10:59:52.567150Z",
     "iopub.status.busy": "2025-09-13T10:59:52.566732Z",
     "iopub.status.idle": "2025-09-13T10:59:52.580937Z",
     "shell.execute_reply": "2025-09-13T10:59:52.579878Z"
    },
    "papermill": {
     "duration": 0.019593,
     "end_time": "2025-09-13T10:59:52.582546",
     "exception": false,
     "start_time": "2025-09-13T10:59:52.562953",
     "status": "completed"
    },
    "tags": []
   },
   "outputs": [
    {
     "name": "stdout",
     "output_type": "stream",
     "text": [
      "Area: [-1.10147065  1.14748543  0.62231712 ... -1.33161794  0.9853011\n",
      "  0.15661639]\n",
      "Bedrooms: [ 1.40179052  1.40179052 -0.70458141 ...  1.40179052 -0.00245743\n",
      "  1.40179052]\n",
      "Bathrooms: [ 1.30556821  1.30556821 -0.49832569 ... -1.40027264 -1.40027264\n",
      " -1.40027264]\n",
      "Floors: [1.24415065 1.24415065 1.24415065 ... 0.00803475 0.00803475 1.24415065]\n",
      "Price: [-1.40309102 -0.4077253  -0.98035577 ... -0.2198289  -1.36256413\n",
      " -0.19956545]\n"
     ]
    }
   ],
   "source": [
    "x1 = dataset[:, 0]\n",
    "x2 = dataset[:, 1]\n",
    "x3 = dataset[:, 2]\n",
    "x4 = dataset[:, 3]\n",
    "\n",
    "x1 = (x1 - np.mean(x1)) / np.std(x1)\n",
    "x2 = (x2 - np.mean(x2)) / np.std(x2)\n",
    "x3 = (x3 - np.mean(x3)) / np.std(x3)\n",
    "x4 = (x4 - np.mean(x4)) / np.std(x4)\n",
    "\n",
    "y = dataset[:, 4]\n",
    "y = (y - np.mean(y)) / np.std(y)\n",
    "\n",
    "print(f\"Area: {x1}\")\n",
    "print(f\"Bedrooms: {x2}\")\n",
    "print(f\"Bathrooms: {x3}\")\n",
    "print(f\"Floors: {x4}\")\n",
    "print(f\"Price: {y}\")"
   ]
  },
  {
   "cell_type": "code",
   "execution_count": 4,
   "id": "51f1b6cb",
   "metadata": {
    "execution": {
     "iopub.execute_input": "2025-09-13T10:59:52.589057Z",
     "iopub.status.busy": "2025-09-13T10:59:52.588553Z",
     "iopub.status.idle": "2025-09-13T10:59:52.596212Z",
     "shell.execute_reply": "2025-09-13T10:59:52.595226Z"
    },
    "papermill": {
     "duration": 0.012743,
     "end_time": "2025-09-13T10:59:52.597961",
     "exception": false,
     "start_time": "2025-09-13T10:59:52.585218",
     "status": "completed"
    },
    "tags": []
   },
   "outputs": [
    {
     "data": {
      "text/plain": [
       "0"
      ]
     },
     "execution_count": 4,
     "metadata": {},
     "output_type": "execute_result"
    }
   ],
   "source": [
    "m1 = m2 = m3 = m4 = 0\n",
    "c = 0\n",
    "learning_rate = 0.00001\n",
    "num_iter = 1000\n",
    "N = len(x1)\n",
    "m1"
   ]
  },
  {
   "cell_type": "code",
   "execution_count": 5,
   "id": "368d1592",
   "metadata": {
    "execution": {
     "iopub.execute_input": "2025-09-13T10:59:52.604872Z",
     "iopub.status.busy": "2025-09-13T10:59:52.604479Z",
     "iopub.status.idle": "2025-09-13T10:59:52.688461Z",
     "shell.execute_reply": "2025-09-13T10:59:52.687055Z"
    },
    "papermill": {
     "duration": 0.089469,
     "end_time": "2025-09-13T10:59:52.690158",
     "exception": false,
     "start_time": "2025-09-13T10:59:52.600689",
     "status": "completed"
    },
    "tags": []
   },
   "outputs": [
    {
     "name": "stdout",
     "output_type": "stream",
     "text": [
      "Step: 0, MSE: 1.0, Area(m1): 3.0842406487284253e-08, Bedrooms(m2): -6.941006336216952e-08, Bathrooms(m3): -3.147474438523212e-07, Floors(m4): 1.1178051937842788e-06, Intercept: 1.3500311979441904e-21\n",
      "Step: 100, MSE: 0.9999864832443264, Area(m1): 3.1109962666022474e-06, Bedrooms(m2): -7.005115616520307e-06, Bathrooms(m3): -3.176115515745219e-05, Floors(m4): 0.00011278644216789732, Intercept: 1.4047429885977192e-19\n",
      "Step: 200, MSE: 0.9999730195725536, Area(m1): 6.183071261735065e-06, Bedrooms(m2): -1.3930334116160757e-05, Bathrooms(m3): -6.315151675136138e-05, Floors(m4): 0.00022423382431953934, Intercept: 2.7680968628374137e-19\n",
      "Step: 300, MSE: 0.9999596087760065, Area(m1): 9.24708792921519e-06, Bedrooms(m2): -2.084507979964965e-05, Bathrooms(m3): -9.448593075612368e-05, Floors(m4): 0.00033546039053357276, Intercept: 4.1511682979944505e-19\n",
      "Step: 400, MSE: 0.9999462506468312, Area(m1): 1.2303066755443982e-05, Bedrooms(m2): -2.774936688935391e-05, Bathrooms(m3): -0.00012576449553213773, Floors(m4): 0.0004464665788232497, Intercept: 5.520028878436285e-19\n",
      "Step: 500, MSE: 0.9999329449779918, Area(m1): 1.5351028176018494e-05, Bedrooms(m2): -3.464320959264403e-05, Bathrooms(m3): -0.00015698730926994397, Floors(m4): 0.0005572528263319461, Intercept: 6.882316938572335e-19\n",
      "Step: 600, MSE: 0.9999196915632665, Area(m1): 1.8390992575854924e-05, Bedrooms(m2): -4.1526622101897084e-05, Bathrooms(m3): -0.00018815446999051097, Floors(m4): 0.0006678195693348893, Intercept: 8.239631199558067e-19\n",
      "Step: 700, MSE: 0.9999064901972458, Area(m1): 2.142298028931182e-05, Bedrooms(m2): -4.8399618594499804e-05, Bathrooms(m3): -0.00021926607554552112, Floors(m4): 0.0007781672432408848, Intercept: 9.5925045684453e-19\n",
      "Step: 800, MSE: 0.9998933406753276, Area(m1): 2.4447011600312953e-05, Bedrooms(m2): -5.526221323285158e-05, Bathrooms(m3): -0.00025032222361765616, Floors(m4): 0.0008882962825940414, Intercept: 1.0948220108275571e-18\n",
      "Step: 900, MSE: 0.9998802427937158, Area(m1): 2.7463106742469997e-05, Bedrooms(m2): -6.21144201643677e-05, Bathrooms(m3): -0.00028132301172088174, Floors(m4): 0.000998207121075488, Intercept: 1.22907906074943e-18\n",
      "\n",
      "Final parameters:\n",
      "Area coefficient (m1): 3.0441243225615903e-05\n",
      "Bedrooms coefficient (m2): -6.888788649073723e-05\n",
      "Bathrooms coefficient (m3): -0.00031195935517669833\n",
      "Floors coefficient (m4): 0.0011068043373335967\n",
      "Intercept (c): 1.363513746355242e-18\n"
     ]
    }
   ],
   "source": [
    "for i in range(num_iter):\n",
    "    y_pred = m1*x1 + m2*x2 + m3*x3 + m4*x4 + c\n",
    "    dm1 = (-2/N) * np.sum(x1*(y - y_pred))\n",
    "    dm2 = (-2/N) * np.sum(x2*(y - y_pred))\n",
    "    dm3 = (-2/N) * np.sum(x3*(y - y_pred))\n",
    "    dm4 = (-2/N) * np.sum(x4*(y - y_pred))\n",
    "    dc = (-2/N) * np.sum(y - y_pred)\n",
    "    m1 = m1 - learning_rate * dm1\n",
    "    m2 = m2 - learning_rate * dm2\n",
    "    m3 = m3 - learning_rate * dm3\n",
    "    m4 = m4 - learning_rate * dm4\n",
    "    c = c - learning_rate * dc\n",
    "    if i % 100 == 0:\n",
    "        mse = np.mean((y - y_pred)**2)\n",
    "        print(f\"Step: {i}, MSE: {mse}, Area(m1): {m1}, Bedrooms(m2): {m2}, \"\n",
    "              f\"Bathrooms(m3): {m3}, Floors(m4): {m4}, Intercept: {c}\")\n",
    "\n",
    "\n",
    "print(f\"\\nFinal parameters:\")\n",
    "print(f\"Area coefficient (m1): {m1}\")\n",
    "print(f\"Bedrooms coefficient (m2): {m2}\")\n",
    "print(f\"Bathrooms coefficient (m3): {m3}\")\n",
    "print(f\"Floors coefficient (m4): {m4}\")\n",
    "print(f\"Intercept (c): {c}\")"
   ]
  },
  {
   "cell_type": "code",
   "execution_count": 6,
   "id": "bd64ad0d",
   "metadata": {
    "execution": {
     "iopub.execute_input": "2025-09-13T10:59:52.697065Z",
     "iopub.status.busy": "2025-09-13T10:59:52.696695Z",
     "iopub.status.idle": "2025-09-13T10:59:52.705460Z",
     "shell.execute_reply": "2025-09-13T10:59:52.703917Z"
    },
    "papermill": {
     "duration": 0.014307,
     "end_time": "2025-09-13T10:59:52.707379",
     "exception": false,
     "start_time": "2025-09-13T10:59:52.693072",
     "status": "completed"
    },
    "tags": []
   },
   "outputs": [
    {
     "name": "stdout",
     "output_type": "stream",
     "text": [
      "        Area     Bedroom   Bath    Floor Price\n"
     ]
    },
    {
     "data": {
      "text/plain": [
       "array([   706,      1,      3,      1, 305315])"
      ]
     },
     "execution_count": 6,
     "metadata": {},
     "output_type": "execute_result"
    }
   ],
   "source": [
    "print(\"        Area     Bedroom   Bath    Floor Price\")\n",
    "test = np.array((dataset[100,: ]), dtype=\"int\")\n",
    "test"
   ]
  },
  {
   "cell_type": "code",
   "execution_count": 7,
   "id": "10ebf92f",
   "metadata": {
    "execution": {
     "iopub.execute_input": "2025-09-13T10:59:52.715354Z",
     "iopub.status.busy": "2025-09-13T10:59:52.714899Z",
     "iopub.status.idle": "2025-09-13T10:59:52.722917Z",
     "shell.execute_reply": "2025-09-13T10:59:52.721926Z"
    },
    "papermill": {
     "duration": 0.014483,
     "end_time": "2025-09-13T10:59:52.725370",
     "exception": false,
     "start_time": "2025-09-13T10:59:52.710887",
     "status": "completed"
    },
    "tags": []
   },
   "outputs": [
    {
     "data": {
      "text/plain": [
       "0.02159355610259759"
      ]
     },
     "execution_count": 7,
     "metadata": {},
     "output_type": "execute_result"
    }
   ],
   "source": [
    "y_pred_final = m1*706 + m2*1 + m3*3 + m4*1 + c\n",
    "y_pred_final"
   ]
  }
 ],
 "metadata": {
  "kaggle": {
   "accelerator": "none",
   "dataSources": [
    {
     "datasetId": 5744880,
     "sourceId": 9451387,
     "sourceType": "datasetVersion"
    }
   ],
   "dockerImageVersionId": 31089,
   "isGpuEnabled": false,
   "isInternetEnabled": false,
   "language": "python",
   "sourceType": "notebook"
  },
  "kernelspec": {
   "display_name": "Python 3",
   "language": "python",
   "name": "python3"
  },
  "language_info": {
   "codemirror_mode": {
    "name": "ipython",
    "version": 3
   },
   "file_extension": ".py",
   "mimetype": "text/x-python",
   "name": "python",
   "nbconvert_exporter": "python",
   "pygments_lexer": "ipython3",
   "version": "3.11.13"
  },
  "papermill": {
   "default_parameters": {},
   "duration": 7.434848,
   "end_time": "2025-09-13T10:59:53.251136",
   "environment_variables": {},
   "exception": null,
   "input_path": "__notebook__.ipynb",
   "output_path": "__notebook__.ipynb",
   "parameters": {},
   "start_time": "2025-09-13T10:59:45.816288",
   "version": "2.6.0"
  }
 },
 "nbformat": 4,
 "nbformat_minor": 5
}
